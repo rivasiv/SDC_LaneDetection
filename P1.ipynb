{
 "cells": [
  {
   "cell_type": "markdown",
   "metadata": {
    "nbpresent": {
     "id": "83c4705c-4ebb-421b-b9ad-1f2525afa2df"
    }
   },
   "source": [
    "# **Finding Lane Lines on the Road** \n",
    "***\n",
    "In this project, you will use the tools you learned about in the lesson to identify lane lines on the road.  You can develop your pipeline on a series of individual images, and later apply the result to a video stream (really just a series of images). Check out the video clip \"raw-lines-example.mp4\" (also contained in this repository) to see what the output should look like after using the helper functions below. \n",
    "\n",
    "Once you have a result that looks roughly like \"raw-lines-example.mp4\", you'll need to get creative and try to average and/or extrapolate the line segments you've detected to map out the full extent of the lane lines.  You can see an example of the result you're going for in the video \"P1_example.mp4\".  Ultimately, you would like to draw just one line for the left side of the lane, and one for the right.\n",
    "\n",
    "---\n",
    "Let's have a look at our first image called 'test_images/solidWhiteRight.jpg'.  Run the 2 cells below (hit Shift-Enter or the \"play\" button above) to display the image.\n",
    "\n",
    "**Note** If, at any point, you encounter frozen display windows or other confounding issues, you can always start again with a clean slate by going to the \"Kernel\" menu above and selecting \"Restart & Clear Output\".\n",
    "\n",
    "---"
   ]
  },
  {
   "cell_type": "markdown",
   "metadata": {
    "nbpresent": {
     "id": "afe6f5f4-c4dd-4f57-b44b-84f6b6a1dbde"
    }
   },
   "source": [
    "**The tools you have are color selection, region of interest selection, grayscaling, Gaussian smoothing, Canny Edge Detection and Hough Tranform line detection.  You  are also free to explore and try other techniques that were not presented in the lesson.  Your goal is piece together a pipeline to detect the line segments in the image, then average/extrapolate them and draw them onto the image for display (as below).  Once you have a working pipeline, try it out on the video stream below.**\n",
    "\n",
    "---\n",
    "\n",
    "<figure>\n",
    " <img src=\"line-segments-example.jpg\" width=\"380\" alt=\"Combined Image\" />\n",
    " <figcaption>\n",
    " <p></p> \n",
    " <p style=\"text-align: center;\"> Your output should look something like this (above) after detecting line segments using the helper functions below </p> \n",
    " </figcaption>\n",
    "</figure>\n",
    " <p></p> \n",
    "<figure>\n",
    " <img src=\"laneLines_thirdPass.jpg\" width=\"380\" alt=\"Combined Image\" />\n",
    " <figcaption>\n",
    " <p></p> \n",
    " <p style=\"text-align: center;\"> Your goal is to connect/average/extrapolate line segments to get output like this</p> \n",
    " </figcaption>\n",
    "</figure>"
   ]
  },
  {
   "cell_type": "code",
   "execution_count": null,
   "metadata": {
    "collapsed": false,
    "nbpresent": {
     "id": "82760477-0d69-490c-93b7-5abb5c6068b0"
    }
   },
   "outputs": [],
   "source": [
    "#importing some useful packages\n",
    "import matplotlib.pyplot as plt\n",
    "import matplotlib.image as mpimg\n",
    "import numpy as np\n",
    "import cv2\n",
    "\n",
    "%matplotlib inline"
   ]
  },
  {
   "cell_type": "code",
   "execution_count": null,
   "metadata": {
    "collapsed": false,
    "nbpresent": {
     "id": "5f458b24-b4e2-41d8-b132-424fd2c79631"
    }
   },
   "outputs": [],
   "source": [
    "#reading in an image\n",
    "image = mpimg.imread('test_images/solidWhiteRight.jpg')\n",
    "#printing out some stats and plotting\n",
    "print('This image is:', type(image), 'with dimesions:', image.shape)\n",
    "plt.imshow(image)  #call as plt.imshow(gray, cmap='gray') to show a grayscaled image"
   ]
  },
  {
   "cell_type": "markdown",
   "metadata": {
    "nbpresent": {
     "id": "d879ba33-23a0-4dfd-9e07-352606fc88a6"
    }
   },
   "source": [
    "**Some OpenCV functions (beyond those introduced in the lesson) that might be useful for this project are:**\n",
    "\n",
    "`cv2.inRange()` for color selection  \n",
    "`cv2.fillPoly()` for regions selection  \n",
    "`cv2.line()` to draw lines on an image given endpoints  \n",
    "`cv2.addWeighted()` to coadd / overlay two images\n",
    "`cv2.cvtColor()` to grayscale or change color\n",
    "`cv2.imwrite()` to output images to file  \n",
    "`cv2.bitwise_and()` to apply a mask to an image\n",
    "\n",
    "**Check out the OpenCV documentation to learn about these and discover even more awesome functionality!**"
   ]
  },
  {
   "cell_type": "markdown",
   "metadata": {
    "nbpresent": {
     "id": "5a70c5a2-ba8d-4e38-9c4e-f36fefa70a62"
    }
   },
   "source": [
    "Below are some helper functions to help get you started. They should look familiar from the lesson!"
   ]
  },
  {
   "cell_type": "code",
   "execution_count": null,
   "metadata": {
    "collapsed": false,
    "nbpresent": {
     "id": "ce23ccf0-c06d-4d19-bdc7-908817b0b94b"
    }
   },
   "outputs": [],
   "source": [
    "import math\n",
    "\n",
    "def grayscale(img):\n",
    "    \"\"\"Applies the Grayscale transform\n",
    "    This will return an image with only one color channel\n",
    "    but NOTE: to see the returned image as grayscale\n",
    "    you should call plt.imshow(gray, cmap='gray')\"\"\"\n",
    "    return cv2.cvtColor(img, cv2.COLOR_BGR2GRAY)\n",
    "    \n",
    "def canny(img, low_threshold, high_threshold):\n",
    "    \"\"\"Applies the Canny transform\"\"\"\n",
    "    return cv2.Canny(img, low_threshold, high_threshold)\n",
    "\n",
    "def gaussian_blur(img, kernel_size):\n",
    "    \"\"\"Applies a Gaussian Noise kernel\"\"\"\n",
    "    return cv2.GaussianBlur(img, (kernel_size, kernel_size), 0)\n",
    "\n",
    "def region_of_interest(img, vertices):\n",
    "    \"\"\"\n",
    "    Applies an image mask.\n",
    "    \n",
    "    Only keeps the region of the image defined by the polygon\n",
    "    formed from `vertices`. The rest of the image is set to black.\n",
    "    \"\"\"\n",
    "    #defining a blank mask to start with\n",
    "    mask = np.zeros_like(img)   \n",
    "    \n",
    "    #defining a 3 channel or 1 channel color to fill the mask with depending on the input image\n",
    "    if len(img.shape) > 2:\n",
    "        channel_count = img.shape[2]  # i.e. 3 or 4 depending on your image\n",
    "        ignore_mask_color = (255,) * channel_count\n",
    "    else:\n",
    "        ignore_mask_color = 255\n",
    "        \n",
    "    #filling pixels inside the polygon defined by \"vertices\" with the fill color    \n",
    "    cv2.fillPoly(mask, vertices, ignore_mask_color)\n",
    "    \n",
    "    #returning the image only where mask pixels are nonzero\n",
    "    masked_image = cv2.bitwise_and(img, mask)\n",
    "    return masked_image\n",
    "\n",
    "def hough_lines(img, rho, theta, threshold, min_line_len, max_line_gap):\n",
    "    \"\"\"\n",
    "    `img` should be the output of a Canny transform.\n",
    "        \n",
    "    Returns an image with hough lines drawn.\n",
    "    \"\"\"\n",
    "    lines = cv2.HoughLinesP(img, rho, theta, threshold, np.array([]), minLineLength=min_line_len, maxLineGap=max_line_gap)\n",
    "    line_img = np.zeros((*img.shape, 3), dtype=np.uint8)\n",
    "    draw_lines(line_img, lines)\n",
    "    return line_img\n",
    "\n",
    "# Python 3 has support for cool math symbols.\n",
    "\n",
    "def weighted_img(img, initial_img, α=0.8, β=1., λ=0.):\n",
    "    \"\"\"\n",
    "    `img` is the output of the hough_lines(), An image with lines drawn on it.\n",
    "    Should be a blank image (all black) with lines drawn on it.\n",
    "    \n",
    "    `initial_img` should be the image before any processing.\n",
    "    \n",
    "    The result image is computed as follows:\n",
    "    \n",
    "    initial_img * α + img * β + λ\n",
    "    NOTE: initial_img and img must be the same shape!\n",
    "    \"\"\"\n",
    "    return cv2.addWeighted(initial_img, α, img, β, λ)"
   ]
  },
  {
   "cell_type": "code",
   "execution_count": null,
   "metadata": {
    "collapsed": false,
    "nbpresent": {
     "id": "db1c2907-828d-471a-b48e-d988fb695539"
    }
   },
   "outputs": [],
   "source": [
    "################################################################################################################\n",
    "# Author for this block of code: Sagar Bhokre                                                                  #\n",
    "# Functions implemented: show_image() draw_lines() slope_line() init_globals() process_image()                 #\n",
    "################################################################################################################\n",
    "\n",
    "#################################################################################################################\n",
    "# Function: show_image() Visualize image data                                                                   #\n",
    "# params: [i/p] name - window name                                                                              #\n",
    "#         [o/p] image- image data                                                                               #\n",
    "#################################################################################################################\n",
    "def show_image(name, image):\n",
    "    plt.imshow(image)\n",
    "    #cv2.imshow(name, image)\n",
    "\n",
    "#################################################################################################################\n",
    "# Function: draw_lines() Draw lane markings on top of input image by fitting a line using linear regression     #\n",
    "# params: [i/p] img - input image on which lane markings have to be drawn                                       #\n",
    "#         [i/p] lines - Lines extracted using hough transform on canny edge detected input in grayscale format  #\n",
    "#         [i/p] color - color of lane marking to be drawn ([optional] default = red)                            #\n",
    "#         [i/p] thickness - thickness of lane marking ([optional] default = 2)                                  #\n",
    "#         [o/p] 0 - if both lane markings were detected                                                         #\n",
    "#               1 - if one or less lane markings were detected                                                  #\n",
    "# Description: Split lines segments detected using hough transform into left and right lane using their slope.  #\n",
    "#              Fit a line passing through left and right lines separately using linear regression               #\n",
    "#               Extrapolate to the top and bottom of lane marking zone                                          #\n",
    "#              Also keep a track of the last frames intercepts to smoothen out lane markings                    #\n",
    "#################################################################################################################\n",
    "prev_left_l, prev_left_u, prev_right_l, prev_right_u = 0, 0, 0, 0\n",
    "from scipy import stats\n",
    "def draw_lines(img, lines, color=[255, 0, 0], thickness=2):\n",
    "    x_l, y_l, x_r, y_r = [], [], [] ,[]\n",
    "    global prev_left_l, prev_left_u, prev_right_l, prev_right_u\n",
    "\n",
    "    y1 = int(1.1 * YU)\n",
    "    y2 = H\n",
    "    weight_u = 0.8\n",
    "    weight_l = 0.8\n",
    "    if (debug == 1):\n",
    "        for line in lines:\n",
    "            for (x1, y1, x2, y2) in line:\n",
    "                cv2.line(img, (x1, y1), (x2, y2), color, thickness=2)\n",
    "\n",
    "    for line in lines:\n",
    "        slope = slope_line(line)\n",
    "\n",
    "        # Filter out left lane markers ensuring none of the points cross right top x boundary\n",
    "        if((slope > SLOPE_THRESHOLD) and (line[0][0] > (W/2 - XU_OFFSET))):\n",
    "            x_r.append(line[0][0])\n",
    "            x_r.append(line[0][2])\n",
    "            y_r.append(line[0][1])\n",
    "            y_r.append(line[0][3])\n",
    "        # Filter out right lane markers ensuring none of the points cross left top x boundary\n",
    "        elif((slope < (-1 * SLOPE_THRESHOLD)) and (line[0][0] < (W/2 + XU_OFFSET))):\n",
    "            x_l.append(line[0][0])\n",
    "            x_l.append(line[0][2])\n",
    "            y_l.append(line[0][1])\n",
    "            y_l.append(line[0][3])\n",
    "\n",
    "    # Plot left lane marker\n",
    "    if((len(x_l) != 0) and (len(y_l) != 0)):\n",
    "        slope_l, intercept_l, r_value, p_value, std_err = stats.linregress(x_l,y_l)\n",
    "        x1 = int((y1 - intercept_l)/slope_l)\n",
    "        x2 = int((y2 - intercept_l)/slope_l)\n",
    "        if(prev_left_l == 0):\n",
    "            prev_left_u = x1\n",
    "            prev_left_l = x2\n",
    "        xa = int(x1 * weight_u + prev_left_u * (1.0 - weight_u))\n",
    "        xb = int(x2 * weight_l + prev_left_l * (1.0 - weight_l))\n",
    "        cv2.line(img, (xa, y1), (xb, y2), color, thickness=8)\n",
    "    \n",
    "        prev_left_u = x1\n",
    "        prev_left_l = x2\n",
    "    \n",
    "    # Plot right lane marker\n",
    "    if((len(x_r) != 0) and (len(y_r) != 0)):\n",
    "        slope_r, intercept_r, r_value, p_value, std_err = stats.linregress(x_r,y_r)\n",
    "        x1 = int((y1 - intercept_r)/slope_r)\n",
    "        x2 = int((y2 - intercept_r)/slope_r)\n",
    "        if(prev_right_l == 0):\n",
    "            print(\"init prev params\")\n",
    "            prev_right_u = x1\n",
    "            prev_right_l = x2\n",
    "        xa = int(x1 * weight_u + prev_right_u * (1.0 - weight_u))\n",
    "        xb = int(x2 * weight_l + prev_right_l * (1.0 - weight_l))\n",
    "        cv2.line(img, (xa, y1), (xb, y2), color, thickness=8)\n",
    "\n",
    "        prev_right_u = x1\n",
    "        prev_right_l = x2\n",
    "    \n",
    "    # Try to detect both lane markers and return 1 if either/both are missing\n",
    "    if((len(x_l) == 0) or (len(x_r) == 0)):\n",
    "        if(debug == 1):\n",
    "            for line in lines:\n",
    "                for (x1, y1, x2, y2) in line:\n",
    "                    cv2.line(img, (x1, y1), (x2, y2), color=[255, 255, 255], thickness=2)\n",
    "                    print(slope_line(line))\n",
    "                    cv2.imshow(\"Lines_internal_debug\", img)\n",
    "                    cv2.waitKey(0)\n",
    "        missing_markers = (len(x_l) == 0) + (len(x_r) == 0)\n",
    "        print(str(missing_markers) + \" lane markers not detected for frame \" + str(frame))\n",
    "        return 1\n",
    "\n",
    "    #return 0 if both lane markers were detected\n",
    "    return 0\n",
    "\n",
    "#################################################################################################################\n",
    "# Function: slope_line()) Calculate slope of the line passing through points mentioned in the arguments         #\n",
    "# params: [i/p] line - coordinates of points passing through a line format: (x1, y1, x2, y2)                    #\n",
    "#         [o/p] slope - slope of the line passing through the points mentioned in input parameter               #\n",
    "#################################################################################################################\n",
    "def slope_line(line):\n",
    "    dx = line[0][2] - line[0][0]\n",
    "    dy = line[0][3] - line[0][1]\n",
    "    return (dy/dx)\n",
    "\n",
    "##################################################################################################################\n",
    "# Global Parameter set for tuning performance of the algorithm                                                   #\n",
    "##################################################################################################################\n",
    "\n",
    "# Edge detection\n",
    "CANNY_LOW = 50\n",
    "CANNY_HIGH = 150\n",
    "\n",
    "# Noise filter\n",
    "GAUSS_KER = 3\n",
    "\n",
    "# Hough transform params\n",
    "HOUGH_THRESHOLD = 10\n",
    "HOUGH_MIN_LEN = 20\n",
    "HOUGH_MAX_GAP = 180\n",
    "\n",
    "# Lane detection slope threshold\n",
    "SLOPE_THRESHOLD = 0.4\n",
    "\n",
    "# Image params: updated before detecting lanes\n",
    "H = 0\n",
    "W = 0\n",
    "YU = 0\n",
    "XU_OFFSET = 0\n",
    "ROI_VERTICES = np.array([[0, 0], [0, 0], [0, 0], [0, 0]], np.int32)\n",
    "frame = 0\n",
    "\n",
    "debug = 0\n",
    "\n",
    "#################################################################################################################\n",
    "# Function: init_globals(image) Updates global parameters specific to input image                               #\n",
    "# params: [i/p] image - input image to be operated on\n",
    "#################################################################################################################\n",
    "def init_globals(image):\n",
    "    global H, W, YU, XU_OFFSET, global_init, ROI_VERTICES\n",
    "    H = image.shape[0]\n",
    "    W = image.shape[1]\n",
    "    XU_OFFSET = int(W/25)\n",
    "    YU = int(H/2 + H/12)\n",
    "    xu1 = int(W/2 + XU_OFFSET)\n",
    "    xu2 = int(W/2 - XU_OFFSET)\n",
    "    xl1 = int(W/20)\n",
    "    xl2 = int(W - W/20)\n",
    "    ROI_VERTICES = np.array([[xl1, H], [xl2, H], [xu1, YU], [xu2, YU]], np.int32)\n",
    "\n",
    "#################################################################################################################\n",
    "# Function: process_image(image) Process input image and draw lane markings detected using the following algo   #\n",
    "# params: [i/p] image - Input image to be operated on                                                           #\n",
    "#         [o/p] weighted_image - output generated after processing input and detecting lane markings            #\n",
    "#                                                                                                               #\n",
    "# Algorithm:                                                                                                    #\n",
    "#            Initialize variables                                                                               #\n",
    "#            Create a copy of input image to be used while rendering final output containing lane markings      #\n",
    "#            Extract region of importance(ROI) to reduce computations. Trapezoid with base as bottom of image   #\n",
    "#            Convert input to grayscale image to reduce further computation                                     #\n",
    "#            Create a mask to extract yellow regions in image (detect yellow lane markings in ROI)              #\n",
    "#            Create a mask to extract white regions. This is done using thresholding on grayscale image         #\n",
    "#            Combine the mask for yellow and white regions                                                      #\n",
    "#            Extract yellow and white regions                                                                   #\n",
    "#            Detect edges in this image using canny edge detection algorithm                                    #\n",
    "#            Filter out noise using gaussian blur function                                                      #\n",
    "#            Compute hough transform to find out lines in the filtered image                                    #\n",
    "#            Fit lane markers for left and right lanes separately using lines detected from hough transform     #\n",
    "#            Overlay lane markers on input image to highlight lane markings                                     #\n",
    "#################################################################################################################\n",
    "def process_image(image):\n",
    "    # track the frame being operated on\n",
    "    global frame\n",
    "    frame = frame + 1\n",
    "\n",
    "    # initialize global variables depending on image params\n",
    "    init_globals(image)\n",
    "\n",
    "    # create a copy of original image to render final output\n",
    "    original_image = image.copy()\n",
    "\n",
    "    # Extract part of image we are interested in to avoid unwanted computations\n",
    "    image = region_of_interest(image, [ROI_VERTICES])\n",
    "\n",
    "    # Convert to greyscale to avoid further computations\n",
    "    image_grey = grayscale(image)\n",
    "\n",
    "    # HSV representation of yellow is [30, 255, 255]\n",
    "    # filtering out yellow with some delta colors around it\n",
    "    hyl = np.array([20, 50, 50], dtype = \"uint8\")\n",
    "    hyu = np.array([40, 255, 255], dtype=\"uint8\")\n",
    "\n",
    "    # Create a mask to extract yello color from frame\n",
    "    image_hsv = cv2.cvtColor(image, cv2.COLOR_RGB2HSV)\n",
    "    mask_y = cv2.inRange(image_hsv, hyl, hyu)\n",
    "\n",
    "    # Extract white/bright color from greyscale image. This will give data for while lane markers\n",
    "    mask_w = cv2.inRange(image_grey, 200, 255)\n",
    "\n",
    "    # Combine the mask for white and yellow\n",
    "    mask = cv2.bitwise_or(mask_w, mask_y)\n",
    "    # Extract white and yellow colored pixels from image frame\n",
    "    image_yw_mask = cv2.bitwise_and(image_grey, mask)\n",
    "\n",
    "    # From grey image extract edges\n",
    "    image_canny = canny(image_yw_mask, CANNY_LOW, CANNY_HIGH)\n",
    "\n",
    "    # Blur out image to reduce effect of noise\n",
    "    image_gb = gaussian_blur(image_canny, GAUSS_KER)\n",
    "\n",
    "    # Find lines(lane markers) in the image which fit the edges detected by canny filter\n",
    "    image_line = hough_lines(image_gb, 1, np.pi/180, HOUGH_THRESHOLD, HOUGH_MIN_LEN, HOUGH_MAX_GAP);\n",
    "\n",
    "    # overlay the lane markers on original image\n",
    "    image_weighted = weighted_img(image_line, original_image)\n",
    "\n",
    "    # render final image\n",
    "    show_image(\"Final\", image_weighted)\n",
    "\n",
    "    if(debug == 1):\n",
    "        show_image(\"Input\", image)\n",
    "        cv2.imshow(\"Grey Input\", image_grey)\n",
    "        cv2.imshow(\"Yellow mask\", mask_y)\n",
    "        cv2.imshow(\"White mask\", mask_w)\n",
    "        cv2.imshow(\"Y + W Image\", image_yw_mask)\n",
    "        cv2.imshow(\"Canny edges\", image_canny)\n",
    "        cv2.imshow(\"Gaussian Blur\", image_gb)\n",
    "        show_image(\"Line\", image_line)\n",
    "        #cv2.waitKey(0)\n",
    "        cv2.waitKey(1)\n",
    "    return image_weighted"
   ]
  },
  {
   "cell_type": "markdown",
   "metadata": {
    "nbpresent": {
     "id": "accd04ce-c12c-4100-8a28-a6ad25d704e9"
    }
   },
   "source": [
    "## Test on Images\n",
    "\n",
    "Now you should build your pipeline to work on the images in the directory \"test_images\"  \n",
    "**You should make sure your pipeline works well on these images before you try the videos.**"
   ]
  },
  {
   "cell_type": "code",
   "execution_count": null,
   "metadata": {
    "collapsed": false,
    "nbpresent": {
     "id": "a139fa4a-ac4e-4121-ad47-8d0ac0c65e23"
    }
   },
   "outputs": [],
   "source": [
    "import os\n",
    "os.listdir(\"test_images/\")"
   ]
  },
  {
   "cell_type": "code",
   "execution_count": null,
   "metadata": {
    "collapsed": false,
    "nbpresent": {
     "id": "4b699400-d43a-4d5b-857c-5f4741e2feba"
    },
    "scrolled": true
   },
   "outputs": [],
   "source": [
    "files = os.listdir(\"test_images/\")\n",
    "for filename in files:\n",
    "    #reading in an image\n",
    "    image = mpimg.imread('test_images/' + filename)\n",
    "    output_image = process_image(image)\n",
    "    mpimg.imsave('test_images/lanes_' + filename, output_image)"
   ]
  },
  {
   "cell_type": "markdown",
   "metadata": {
    "nbpresent": {
     "id": "83299a0b-e6a3-4f34-b3dd-cdebeafa08e0"
    }
   },
   "source": [
    "run your solution on all test_images and make copies into the test_images directory)."
   ]
  },
  {
   "cell_type": "markdown",
   "metadata": {
    "nbpresent": {
     "id": "167b21e0-2fba-4e19-938e-3659a3509577"
    }
   },
   "source": [
    "## Test on Videos\n",
    "\n",
    "You know what's cooler than drawing lanes over images? Drawing lanes over video!\n",
    "\n",
    "We can test our solution on two provided videos:\n",
    "\n",
    "`solidWhiteRight.mp4`\n",
    "\n",
    "`solidYellowLeft.mp4`"
   ]
  },
  {
   "cell_type": "code",
   "execution_count": null,
   "metadata": {
    "collapsed": false,
    "nbpresent": {
     "id": "a23e2252-6a1c-44c8-88f6-bf3c5bc5b6db"
    }
   },
   "outputs": [],
   "source": [
    "# Import everything needed to edit/save/watch video clips\n",
    "from moviepy.editor import VideoFileClip\n",
    "from IPython.display import HTML"
   ]
  },
  {
   "cell_type": "markdown",
   "metadata": {
    "nbpresent": {
     "id": "12b0f911-5c4a-4473-a8b8-b5c838e68715"
    }
   },
   "source": [
    "Let's try the one with the solid white lane on the right first ..."
   ]
  },
  {
   "cell_type": "code",
   "execution_count": null,
   "metadata": {
    "collapsed": false,
    "nbpresent": {
     "id": "2a529451-d3c9-4158-a813-beb54f57faac"
    }
   },
   "outputs": [],
   "source": [
    "white_output = 'white.mp4'\n",
    "clip1 = VideoFileClip(\"solidWhiteRight.mp4\")\n",
    "white_clip = clip1.fl_image(process_image) #NOTE: this function expects color images!!\n",
    "%time white_clip.write_videofile(white_output, audio=False)"
   ]
  },
  {
   "cell_type": "markdown",
   "metadata": {
    "nbpresent": {
     "id": "1c573d23-d320-445f-b560-a3cfa3679c44"
    }
   },
   "source": [
    "Play the video inline, or if you prefer find the video in your filesystem (should be in the same directory) and play it in your video player of choice."
   ]
  },
  {
   "cell_type": "code",
   "execution_count": null,
   "metadata": {
    "collapsed": false,
    "nbpresent": {
     "id": "8815eb00-012f-403f-b86b-47e18db47538"
    }
   },
   "outputs": [],
   "source": [
    "HTML(\"\"\"\n",
    "<video width=\"960\" height=\"540\" controls>\n",
    "  <source src=\"{0}\">\n",
    "</video>\n",
    "\"\"\".format(white_output))"
   ]
  },
  {
   "cell_type": "markdown",
   "metadata": {
    "nbpresent": {
     "id": "b8e484f4-d9cf-4a31-a77e-d004531a12a3"
    }
   },
   "source": [
    "**At this point, if you were successful you probably have the Hough line segments drawn onto the road, but what about identifying the full extent of the lane and marking it clearly as in the example video (P1_example.mp4)?  Think about defining a line to run the full length of the visible lane based on the line segments you identified with the Hough Transform.  Modify your draw_lines function accordingly and try re-running your pipeline.**"
   ]
  },
  {
   "cell_type": "markdown",
   "metadata": {
    "nbpresent": {
     "id": "20a8e4c6-6e82-4c89-bc8e-6644ccafa04e"
    }
   },
   "source": [
    "Now for the one with the solid yellow lane on the left. This one's more tricky!"
   ]
  },
  {
   "cell_type": "code",
   "execution_count": null,
   "metadata": {
    "collapsed": false,
    "nbpresent": {
     "id": "724dd8e0-0efa-4748-b897-9077a5983969"
    },
    "scrolled": true
   },
   "outputs": [],
   "source": [
    "yellow_output = 'yellow.mp4'\n",
    "clip2 = VideoFileClip('solidYellowLeft.mp4')\n",
    "yellow_clip = clip2.fl_image(process_image)\n",
    "%time yellow_clip.write_videofile(yellow_output, audio=False)"
   ]
  },
  {
   "cell_type": "code",
   "execution_count": null,
   "metadata": {
    "collapsed": false,
    "nbpresent": {
     "id": "5216b7e4-b2ff-44a0-9652-38dea08bd4ee"
    }
   },
   "outputs": [],
   "source": [
    "HTML(\"\"\"\n",
    "<video width=\"960\" height=\"540\" controls>\n",
    "  <source src=\"{0}\">\n",
    "</video>\n",
    "\"\"\".format(yellow_output))"
   ]
  },
  {
   "cell_type": "markdown",
   "metadata": {
    "nbpresent": {
     "id": "a729c632-44e8-41bc-bf48-2ef97184ea85"
    }
   },
   "source": [
    "## Reflections\n",
    "\n",
    "### Implementation details:\n",
    "\n",
    "Algorithm can be split into following sub-blocks:\n",
    "\n",
    "   1. Extract Region of interest to save computations.\n",
    "      - Trapezoid with base as image width and height nearly spanning till the middle of image\n",
    "      - Base width and top width were arrived at empirically\n",
    "   2. Convert to grayscale to reduce further computations\n",
    "   3. Create a mask for yellow and white areas in the image as lanes are usually demarked by white or yellow lines\n",
    "   4. Extract yellow and white areas\n",
    "   5. Extract edges from these areas using canny algorithm\n",
    "   6. Remove noise effect by blurring out canny edge image with a kernel of size 3\n",
    "   7. Find lines in this filtered image\n",
    "   8. Split the lines into left and right lanes using the slope of these lines\n",
    "   9. Fit a lane marking line passing through left and right set of lines we obtained from Hough transform\n",
    "      - I have tried linear regression to fit the line passing through all points in a particular lane\n",
    "      - Other methods could include passing a line through top and bottom points in a particular lane\n",
    "   10. Overlay the lane markings on input image\n",
    "\n",
    "#### Note: The algorithm informs with a print spew if it failed to detect one/both lane markings but continues to find lane markings in subsequent images\n",
    "\n",
    "### Shortcomings and Suggestions for improving this algorithm:\n",
    "\n",
    "  1. Output of the algorithm appears correct but not very smooth (This was the case with version 1)\n",
    "     - Average of y intercepts could be considered for smoothening out the lane markings \n",
    "     - Will be trying a second order filter to test this concept\n",
    "       (Already implemented in current version of the algorithm)\n",
    "  2. Weighted average could be considered to fit lane markings instead of linear regression. This would give more weightage to longer lines and hopefully fit the lane markings better\n",
    "  3. This implementation could also be run through a video captured in various lighting conditions to test robustness\n",
    "  4. It could also be tested in foggy climate, rains, shaded areas (as seen in challenge.mp4), wet roads. I believe the algorithm may not function very well in foggy climate and during heavy rains when the vision is blurred and occluded. It should however perform well during slight rains and on wet roads where the vision is not affected much.\n",
    "\n",
    "\n",
    "### Running the code\n",
    "\n",
    "To run the code, open P1.ipynb using jupyter notebook and execute cells one after the other or all in one go.\n",
    "\n",
    "After the execution is complete, output for test images would be created in the same folder as \"test_images/\" but with file names prepended with \"lanes_\". Please delete all files with name starting with \"lanes_\" before running the algorithm again\n",
    "\n",
    "\n",
    "### Tested with:\n",
    "- test_images\n",
    "- solidWhiteRight.mp4\n",
    "- solidYellowLeft.mp4\n",
    "- challenge.mp4"
   ]
  },
  {
   "cell_type": "markdown",
   "metadata": {
    "nbpresent": {
     "id": "38b08a47-5164-4e7b-a5c8-43b7778e15a3"
    }
   },
   "source": [
    "## Submission\n",
    "\n",
    "If you're satisfied with your video outputs it's time to submit!\n"
   ]
  },
  {
   "cell_type": "markdown",
   "metadata": {
    "collapsed": true,
    "nbpresent": {
     "id": "976c244a-f58f-4a9c-9624-c7ef0c19331f"
    }
   },
   "source": [
    "## Optional Challenge\n",
    "\n",
    "Try your lane finding pipeline on the video below.  Does it still work?  Can you figure out a way to make it more robust?  If you're up for the challenge, modify your pipeline so it works with this video and submit it along with the rest of your project!"
   ]
  },
  {
   "cell_type": "code",
   "execution_count": null,
   "metadata": {
    "collapsed": false,
    "nbpresent": {
     "id": "7065e09e-696e-47b3-b94b-bd9907ebb926"
    }
   },
   "outputs": [],
   "source": [
    "challenge_output = 'extra.mp4'\n",
    "clip2 = VideoFileClip('challenge.mp4')\n",
    "challenge_clip = clip2.fl_image(process_image)\n",
    "%time challenge_clip.write_videofile(challenge_output, audio=False)"
   ]
  },
  {
   "cell_type": "code",
   "execution_count": null,
   "metadata": {
    "collapsed": false,
    "nbpresent": {
     "id": "1223356d-a302-4acd-8386-9f98f2cadb16"
    }
   },
   "outputs": [],
   "source": [
    "HTML(\"\"\"\n",
    "<video width=\"960\" height=\"540\" controls>\n",
    "  <source src=\"{0}\">\n",
    "</video>\n",
    "\"\"\".format(challenge_output))"
   ]
  }
 ],
 "metadata": {
  "anaconda-cloud": {},
  "kernelspec": {
   "display_name": "Python [conda env:SDC_P1]",
   "language": "python",
   "name": "conda-env-SDC_P1-py"
  },
  "language_info": {
   "codemirror_mode": {
    "name": "ipython",
    "version": 3
   },
   "file_extension": ".py",
   "mimetype": "text/x-python",
   "name": "python",
   "nbconvert_exporter": "python",
   "pygments_lexer": "ipython3",
   "version": "3.5.2"
  }
 },
 "nbformat": 4,
 "nbformat_minor": 0
}
